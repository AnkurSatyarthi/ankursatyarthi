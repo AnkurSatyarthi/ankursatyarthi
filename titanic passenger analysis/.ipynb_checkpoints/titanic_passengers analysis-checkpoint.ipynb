{
 "cells": [
  {
   "cell_type": "markdown",
   "metadata": {},
   "source": [
    "# **Titanic Passengers Analysis**"
   ]
  },
  {
   "cell_type": "markdown",
   "metadata": {},
   "source": [
    "+ **Project** : *Titanic Passengers Analysis*\n",
    "+ **Author** : *Ankur Satyarthi*\n",
    "+ **Programming Language** : *Julia*\n",
    "+ **Used Packages** : *DataFrames, CSV, Plots, Makie, GLM*\n",
    "+ **GitHub** : *Ankur Satyarthi*\n",
    "+ **LinkedIn** : *www.linkedin.com/in/ankurindiaofficial*"
   ]
  },
  {
   "cell_type": "markdown",
   "metadata": {},
   "source": [
    "## Overview"
   ]
  },
  {
   "cell_type": "markdown",
   "metadata": {},
   "source": [
    "### **Question. 1 :** How many passengers were in titanic ?\n",
    "#### **Answer :** There were *1309* passengers of total."
   ]
  },
  {
   "cell_type": "code",
   "execution_count": 1,
   "metadata": {},
   "outputs": [
    {
     "ename": "SyntaxError",
     "evalue": "invalid syntax (3758905223.py, line 1)",
     "output_type": "error",
     "traceback": [
      "\u001b[0;36m  File \u001b[0;32m\"/tmp/ipykernel_14479/3758905223.py\"\u001b[0;36m, line \u001b[0;32m1\u001b[0m\n\u001b[0;31m    using DataFrames, CSV, TypedTables, GLM, Plots, Makie\u001b[0m\n\u001b[0m          ^\u001b[0m\n\u001b[0;31mSyntaxError\u001b[0m\u001b[0;31m:\u001b[0m invalid syntax\n"
     ]
    }
   ],
   "source": [
    "using DataFrames, CSV, TypedTables, GLM, Plots, Makie\n",
    "function download_titantic()\n",
    "    url = \"https://www.openml.org/data/get_csv/16826755/phpMYEkMl\"\n",
    "    return DataFrame(CSV.File(download(url); missingstring = \"?\"))\n",
    "end\n",
    "titanic = download_titantic()"
   ]
  },
  {
   "cell_type": "markdown",
   "metadata": {},
   "source": [
    "### **Question. 2 :** Give me brief introduction about passengers ?\n",
    "\n",
    "#### **Answer :** Breif introduction is given below: \n"
   ]
  },
  {
   "cell_type": "code",
   "execution_count": null,
   "metadata": {},
   "outputs": [],
   "source": [
    "describe(titanic)"
   ]
  },
  {
   "cell_type": "code",
   "execution_count": null,
   "metadata": {},
   "outputs": [],
   "source": [
    "describe(titanic, extrema => :extrema)"
   ]
  },
  {
   "cell_type": "markdown",
   "metadata": {},
   "source": [
    "### **Question. 2 :** How many male passengers were in titanic ?\n",
    "\n",
    "#### **Answer :** There were *843* male passengers of total.\n"
   ]
  },
  {
   "cell_type": "code",
   "execution_count": null,
   "metadata": {},
   "outputs": [],
   "source": [
    "filter(:sex => ==(\"male\"), titanic)"
   ]
  },
  {
   "cell_type": "markdown",
   "metadata": {},
   "source": [
    "### **Question. 3 :** How many female passengers were in titanic ?\n",
    "\n",
    "#### **Answer :** There were *466* female passengers of total.\n"
   ]
  },
  {
   "cell_type": "code",
   "execution_count": null,
   "metadata": {},
   "outputs": [],
   "source": [
    "filter(:sex => ==(\"female\"), titanic)"
   ]
  },
  {
   "cell_type": "markdown",
   "metadata": {},
   "source": [
    "### **Question. 4 :** Who were the first passenger age of 30 in passengers list male or female, and survived or not?\n",
    "\n",
    "#### **Answer :** *Male* and he didn't *survived*.\n"
   ]
  },
  {
   "cell_type": "code",
   "execution_count": null,
   "metadata": {},
   "outputs": [],
   "source": [
    "titanic[findfirst(==(30), titanic.age), :]"
   ]
  },
  {
   "cell_type": "markdown",
   "metadata": {},
   "source": [
    "### **Question. 5 :** How many first class passengers were travelling ?\n",
    "\n",
    "#### **Answer :** There were total of *323* passengers.\n"
   ]
  },
  {
   "cell_type": "code",
   "execution_count": null,
   "metadata": {},
   "outputs": [],
   "source": [
    "titanic[findall(==(1), titanic.pclass), :]"
   ]
  },
  {
   "cell_type": "markdown",
   "metadata": {},
   "source": [
    "### **Question. 6 :** How many second class passengers were travelling ?\n",
    "\n",
    "#### **Answer :** There were total of *277* passengers.\n"
   ]
  },
  {
   "cell_type": "code",
   "execution_count": null,
   "metadata": {},
   "outputs": [],
   "source": [
    "titanic[findall(==(2), titanic.pclass), :]"
   ]
  },
  {
   "cell_type": "markdown",
   "metadata": {},
   "source": [
    "### **Question. 7 :** How many third class passengers were travelling ?\n",
    "\n",
    "#### **Answer :** There were total of *709* passengers.\n"
   ]
  },
  {
   "cell_type": "code",
   "execution_count": null,
   "metadata": {},
   "outputs": [],
   "source": [
    "titanic[findall(==(3), titanic.pclass), :]"
   ]
  },
  {
   "cell_type": "markdown",
   "metadata": {},
   "source": [
    "### **Question. 8 :** How many passengers gave their age and gender details ?\n",
    "\n",
    "#### **Answer :** There were total of *1046* passengers who didn't gave their age and gender details properly.\n"
   ]
  },
  {
   "cell_type": "code",
   "execution_count": null,
   "metadata": {},
   "outputs": [],
   "source": [
    "dropmissing(titanic, [:age, :sex])"
   ]
  },
  {
   "cell_type": "markdown",
   "metadata": {},
   "source": [
    "### **Question. 8 :** How many passengers didn't gave their age and gender details ?\n",
    "\n",
    "#### **Answer :** There were total of *263* passengers who didn't gave their age and gender details properly.\n"
   ]
  },
  {
   "cell_type": "markdown",
   "metadata": {},
   "source": [
    "\n",
    "### **Question. 10 :** What kind of data do we have about passengers ?\n",
    "\n",
    "#### **Answer :** We have various types of data about passengers such as:\n",
    "\n",
    "    |-------------------------------------------------------------------|\n",
    "    |1.  *pclass(Passenger Class)*                                      |\n",
    "    |2.  *survived(Passengers who has survived and who has not)*        |\n",
    "    |3.  *name(Passenger names)*                                        |\n",
    "    |4.  *sex(Passenger's Gender)*                                      |\n",
    "    |5.  *age(Passenger's Age)*                                         |\n",
    "    |6.  *sibsp*                                                        |\n",
    "    |7.  *parch*                                                        |\n",
    "    |8.  *ticket(Passenger's Ticket)*                                   |\n",
    "    |9.  *fare(Passenger's ticket price)*                               |\n",
    "    |10. *cabin(Passenger's Cabin Number)*                              |\n",
    "    |11. *embarked*                                                     |\n",
    "    |12. *boat*                                                         |\n",
    "    |13. *body*                                                         |\n",
    "    |14. *home.dest(Passengers destination)*                            |\n",
    "    |___________________________________________________________________|\n"
   ]
  },
  {
   "cell_type": "code",
   "execution_count": null,
   "metadata": {},
   "outputs": [],
   "source": [
    "names(titanic)"
   ]
  },
  {
   "cell_type": "markdown",
   "metadata": {},
   "source": [
    "## Follow *Ankur Satyarthi* for more updates\n",
    "+ **GitHub** - *Ankur Satyarthi*\n",
    "+ **LinkedIn** - *Ankur Satyarthi*"
   ]
  }
 ],
 "metadata": {
  "kernelspec": {
   "display_name": "Julia 1.8.5",
   "language": "julia",
   "name": "julia-1.8"
  },
  "language_info": {
   "codemirror_mode": {
    "name": "ipython",
    "version": 3
   },
   "file_extension": ".py",
   "mimetype": "text/x-python",
   "name": "python",
   "nbconvert_exporter": "python",
   "pygments_lexer": "ipython3",
   "version": "3.9.13"
  },
  "vscode": {
   "interpreter": {
    "hash": "a053d0d591a8f054f7b9a03c3167040e2d08f028c644b5eb7c631f38d1d80fc8"
   }
  }
 },
 "nbformat": 4,
 "nbformat_minor": 4
}
